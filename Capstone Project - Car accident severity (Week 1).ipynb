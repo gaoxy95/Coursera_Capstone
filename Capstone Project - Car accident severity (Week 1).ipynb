{
    "cells": [
        {
            "cell_type": "markdown",
            "metadata": {
                "collapsed": true
            },
            "source": "# Capstone Project - Car accident severity (Week 1)"
        },
        {
            "cell_type": "markdown",
            "metadata": {},
            "source": "This capstone project will be graded by your peers. This capstone project is worth 70% of your total grade. The project will be completed over the course of 2 weeks. Week 1 submissions will be worth 30% whereas week 2 submissions will be worth 40% of your total grade.\n\nFor this week, you will required to submit the following:\n\n- A description of the problem and a discussion of the background. (15 marks)\n- A description of the data and how it will be used to solve the problem. (15 marks)"
        },
        {
            "cell_type": "markdown",
            "metadata": {},
            "source": "### 1. Introduction and Business Problem"
        },
        {
            "cell_type": "markdown",
            "metadata": {},
            "source": "The initial phase is to understand the project's objective from the business or application perspective. Accidents are nowadays really common.There are many types of collisions, including transportation, traffic, car accidents and so on. Collisions will display at the intersection or mid-block of a segment. This project will focus on predicting the severity of an accident, using the shared data for Seattle city as an example of how to deal with the accidents data. According to 37 different attributes, a supervised machine learning will be used to predict accidents to improve the predictability of the model. Using different sectors like weather, vehcount etc. is really important to avoid accidents. Once the problem confirmed, data understanding, preparation, modeling, evaluation and deployment will be used to anaylse this situation. "
        },
        {
            "cell_type": "markdown",
            "metadata": {},
            "source": "### 2. Data"
        },
        {
            "cell_type": "markdown",
            "metadata": {},
            "source": "- In the phase of data understanding, dataset should be collected or extracted from various sources such as csv file or SQL database like excel document and background introduction. Then, the attributes (columns) that will be used to train the machine learning model should be determined. Also, we will assess the condition of chosen attributes by looking for trends, certain patterns, skewed information, correlations, and so on. Using the dataset given from Seattle Police Department, attributes can be used to weigh the severity of an accident are weather, vehcount and so on.\n- Data Preparation: The data preparation includes all the required activities to construct the final dataset which will be fed into the modeling tools. Data preparation can be performed multiple times and it includes balancing the labeled data, transformation, filling missing data, and cleaning the dataset."
        },
        {
            "cell_type": "markdown",
            "metadata": {},
            "source": "### 3. Modeling"
        },
        {
            "cell_type": "markdown",
            "metadata": {},
            "source": "In this phase, various algorithms and methods can be selected and applied to build the model including supervised machine learning techniques.We can select a single or multiple machine learning models for the same data mining problem. At this phase, stepping back to the data preparation phase is often required. In this case, K-Nearest Neighbor (KNN), Decision Tree and Logistic Regression will help us analyzing the concequences and predicting the severity of accidents."
        },
        {
            "cell_type": "markdown",
            "metadata": {},
            "source": "### 4. Evaluation"
        },
        {
            "cell_type": "markdown",
            "metadata": {},
            "source": "Before proceeding to the deployment stage, the model needs to be evaluated thoroughly to ensure that the business or the applications' objectives are achieved. Certain metrics can be used for the model evaluation such as accuracy, recall, F1-score, precision, and others."
        },
        {
            "cell_type": "markdown",
            "metadata": {},
            "source": "### 5. Discussion"
        },
        {
            "cell_type": "markdown",
            "metadata": {},
            "source": "In this section observations and recommendations that based on the results will be discussed."
        },
        {
            "cell_type": "markdown",
            "metadata": {},
            "source": "### 6. Conclusion"
        },
        {
            "cell_type": "markdown",
            "metadata": {},
            "source": "The previous problem will be solved and then concluded."
        }
    ],
    "metadata": {
        "kernelspec": {
            "display_name": "Python 3.6",
            "language": "python",
            "name": "python3"
        },
        "language_info": {
            "codemirror_mode": {
                "name": "ipython",
                "version": 3
            },
            "file_extension": ".py",
            "mimetype": "text/x-python",
            "name": "python",
            "nbconvert_exporter": "python",
            "pygments_lexer": "ipython3",
            "version": "3.6.9"
        }
    },
    "nbformat": 4,
    "nbformat_minor": 1
}